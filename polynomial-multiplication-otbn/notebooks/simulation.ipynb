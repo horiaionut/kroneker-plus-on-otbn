{
 "cells": [
  {
   "cell_type": "code",
   "execution_count": 1,
   "metadata": {},
   "outputs": [],
   "source": [
    "import random\n",
    "import time\n",
    "import math"
   ]
  },
  {
   "attachments": {},
   "cell_type": "markdown",
   "metadata": {},
   "source": [
    "### Parameters"
   ]
  },
  {
   "cell_type": "code",
   "execution_count": 2,
   "metadata": {},
   "outputs": [],
   "source": [
    "n = 256\n",
    "q = 2 ** 23 - 2 ** 13 + 1\n",
    "l = 64 # 64\n",
    "t = 8 # 8"
   ]
  },
  {
   "cell_type": "code",
   "execution_count": 3,
   "metadata": {},
   "outputs": [],
   "source": [
    "kron_mod = 2**(l * n // t) + 1\n",
    "root_t = 2**(2 * l * n // (t**2)) % kron_mod\n",
    "inv_root_t = pow(root_t, t - 1, kron_mod)\n",
    "\n",
    "# modulo_polynomial = Y ^ (n/t) + 1\n",
    "\n",
    "modulo_polynomial = [0] * (n // t + 1)\n",
    "modulo_polynomial[0] = 1\n",
    "modulo_polynomial[n // t] = 1"
   ]
  },
  {
   "cell_type": "markdown",
   "metadata": {},
   "source": [
    "### Naive Polynomial Multiplication"
   ]
  },
  {
   "cell_type": "code",
   "execution_count": 4,
   "metadata": {},
   "outputs": [],
   "source": [
    "def naive_multiplication(polynomial1, polynomial2):\n",
    "    res = [0] * n\n",
    "\n",
    "    for i in range(n):\n",
    "        for j in range(0, n-i):\n",
    "            res[i+j] += (polynomial1[i] * polynomial2[j])\n",
    "\n",
    "    for i in range(1, n):\n",
    "        for j in range(n-i, n):\n",
    "            res[i+j-n] -= (polynomial1[i] * polynomial2[j])\n",
    "\n",
    "    for i in range(n):\n",
    "        res[i] = res[i] % q\n",
    "    \n",
    "    return res"
   ]
  },
  {
   "attachments": {},
   "cell_type": "markdown",
   "metadata": {},
   "source": [
    "### Kroneker+"
   ]
  },
  {
   "attachments": {},
   "cell_type": "markdown",
   "metadata": {},
   "source": [
    "Step1: reorder coefficients and snort"
   ]
  },
  {
   "cell_type": "code",
   "execution_count": 5,
   "metadata": {},
   "outputs": [],
   "source": [
    "def reorder_coefficients(polynomial):\n",
    "    nussmatrix = [[0 for _ in range(n // t)] for _ in range(t)]\n",
    "    \n",
    "    for i in range(t):\n",
    "        for j in range(n // t):\n",
    "            nussmatrix[i][j] = polynomial[j * t + i]\n",
    "\n",
    "    return nussmatrix"
   ]
  },
  {
   "cell_type": "code",
   "execution_count": 6,
   "metadata": {},
   "outputs": [],
   "source": [
    "def snort(polynomial):\n",
    "    nusskron = 0\n",
    "\n",
    "    for i in range(n // t):\n",
    "        nusskron += polynomial[i] * 2**(l * i)\n",
    "\n",
    "    return nusskron"
   ]
  },
  {
   "cell_type": "code",
   "execution_count": 7,
   "metadata": {},
   "outputs": [],
   "source": [
    "def _step1(polynomial):\n",
    "    nussmatrix = reorder_coefficients(polynomial)\n",
    "    nusskron   = [snort(polynomial) for polynomial in nussmatrix]\n",
    "\n",
    "    return nusskron"
   ]
  },
  {
   "cell_type": "code",
   "execution_count": 8,
   "metadata": {},
   "outputs": [],
   "source": [
    "def step1(polynomial1, polynomial2):\n",
    "    return _step1(polynomial1), _step1(polynomial2)"
   ]
  },
  {
   "attachments": {},
   "cell_type": "markdown",
   "metadata": {},
   "source": [
    "Step 2: multiply each polynomial i by X^i"
   ]
  },
  {
   "cell_type": "code",
   "execution_count": 9,
   "metadata": {},
   "outputs": [],
   "source": [
    "def step2(nusskron1, nusskron2):\n",
    "    # normally kron_modulo reductions are necessary but the implementation leaves those for later since there is enough space to keep a few extra bits\n",
    "\n",
    "    for i in range(t):\n",
    "        nusskron1[i] = (nusskron1[i] << (i * l // t))\n",
    "        nusskron2[i] = (nusskron2[i] << (i * l // t))\n",
    "\n",
    "    return nusskron1, nusskron2"
   ]
  },
  {
   "attachments": {},
   "cell_type": "markdown",
   "metadata": {},
   "source": [
    "Step3: forward butterfly"
   ]
  },
  {
   "cell_type": "code",
   "execution_count": 10,
   "metadata": {},
   "outputs": [],
   "source": [
    "def bit_reverse(v):\n",
    "    w = int(math.log2(len(v)))\n",
    "    \n",
    "    for i in range(len(v)):\n",
    "         b = '{:0{width}b}'.format(i, width=w)\n",
    "         j = int(b[::-1], 2)\n",
    "\n",
    "         if i < j:\n",
    "               v[i], v[j] = v[j], v[i]\n",
    "\n",
    "    return v"
   ]
  },
  {
   "cell_type": "code",
   "execution_count": 11,
   "metadata": {},
   "outputs": [],
   "source": [
    "def forward_butterfly(poly):\n",
    "    f = [poly[i] for i in range(t)]\n",
    "    \n",
    "    m = 2\n",
    "    while m <= t:\n",
    "        d = t // m\n",
    "        root_m = (root_t ** d) % kron_mod \n",
    "        w = bit_reverse([root_m ** i % kron_mod for i in range(m // 2)])\n",
    "\n",
    "        for i in range(m // 2):\n",
    "            for k in range(0, d):\n",
    "                p = i * (2 * d) + k\n",
    "                u = f[p]\n",
    "                v = w[i] * f[p + d] % kron_mod\n",
    "\n",
    "                f[p] = (u + v) % kron_mod\n",
    "                f[p + d] = (u - v) % kron_mod\n",
    "        m *= 2\n",
    "\n",
    "    return f"
   ]
  },
  {
   "cell_type": "code",
   "execution_count": 12,
   "metadata": {},
   "outputs": [],
   "source": [
    "def step3(nusskron1, nusskron2):\n",
    "    return forward_butterfly(nusskron1), forward_butterfly(nusskron2)"
   ]
  },
  {
   "attachments": {},
   "cell_type": "markdown",
   "metadata": {},
   "source": [
    "Step4: t multiplications"
   ]
  },
  {
   "cell_type": "code",
   "execution_count": 13,
   "metadata": {},
   "outputs": [],
   "source": [
    "def step4(kron_ntt1, kron_ntt2):\n",
    "    return [kron_ntt1[i] * kron_ntt2[i] % kron_mod for i in range(t)]"
   ]
  },
  {
   "attachments": {},
   "cell_type": "markdown",
   "metadata": {},
   "source": [
    "Step 5: backward butterfly without multiplication by t^-1"
   ]
  },
  {
   "cell_type": "code",
   "execution_count": 14,
   "metadata": {},
   "outputs": [],
   "source": [
    "def _egcd(a, b):\n",
    "    if a == 0:\n",
    "        return (b, 0, 1)\n",
    "    else:\n",
    "        g, y, x = _egcd(b % a, a)\n",
    "        return (g, x - (b // a) * y, y)"
   ]
  },
  {
   "cell_type": "code",
   "execution_count": 15,
   "metadata": {},
   "outputs": [],
   "source": [
    "def _modinv(a, m):\n",
    "    g, x, y = _egcd(a, m)\n",
    "    if g != 1:\n",
    "        raise Exception('modular inverse does not exist')\n",
    "    else:\n",
    "        return x % m"
   ]
  },
  {
   "cell_type": "code",
   "execution_count": 130,
   "metadata": {},
   "outputs": [],
   "source": [
    "def backward_butterfly(poly):\n",
    "    p = [poly[i] for i in range(t)]\n",
    "\n",
    "    m = 2\n",
    "    while m <= t:\n",
    "        inv_root_m = (inv_root_t ** (t // m)) % kron_mod \n",
    "        w = 1\n",
    "\n",
    "        for i in range(0, m//2):\n",
    "            for k in range(0, t, m):\n",
    "                u = p[k + i]\n",
    "                v = (p[k + i + m // 2] * w) % kron_mod\n",
    "                p[k + i] = (u + v) % kron_mod\n",
    "                p[k + i + (m // 2)] = (u - v) % kron_mod\n",
    "\n",
    "            w = (w * inv_root_m) % kron_mod\n",
    "        m *= 2\n",
    "    \n",
    "    return p"
   ]
  },
  {
   "cell_type": "code",
   "execution_count": 17,
   "metadata": {},
   "outputs": [],
   "source": [
    "def step5(kron_ntt):\n",
    "    return backward_butterfly(kron_ntt)"
   ]
  },
  {
   "attachments": {},
   "cell_type": "markdown",
   "metadata": {},
   "source": [
    "Step6"
   ]
  },
  {
   "cell_type": "code",
   "execution_count": 18,
   "metadata": {},
   "outputs": [],
   "source": [
    "def step6(nusskron):\n",
    "\n",
    "    inv_poly_degree = _modinv(t, kron_mod)\n",
    "    for i in range(t):\n",
    "        nusskron[i] = (nusskron[i] * inv_poly_degree) % kron_mod\n",
    "\n",
    "    X = (2**(l//t)) % kron_mod\n",
    "    inv_X = _modinv(X, kron_mod)\n",
    "\n",
    "    for i in range(t):\n",
    "        nusskron[i] = (nusskron[i] * pow(int(inv_X), int(i), int(kron_mod))) % kron_mod\n",
    "\n",
    "    return nusskron"
   ]
  },
  {
   "attachments": {},
   "cell_type": "markdown",
   "metadata": {},
   "source": [
    "Step 7"
   ]
  },
  {
   "cell_type": "code",
   "execution_count": 19,
   "metadata": {},
   "outputs": [],
   "source": [
    "def sneeze(G):\n",
    "\n",
    "    r = []\n",
    "\n",
    "    for _ in range(n // t):\n",
    "        r.append(G % (2**l))\n",
    "        G = G >> l\n",
    "\n",
    "        if r[-1] > (2**(l-1)):\n",
    "            r[-1] -= (2**l)\n",
    "            G += 1\n",
    "    \n",
    "    assert(G <= 1 and G >= 0)\n",
    "\n",
    "    r[0] = r[0] - G\n",
    "    \n",
    "    return r"
   ]
  },
  {
   "cell_type": "code",
   "execution_count": 20,
   "metadata": {},
   "outputs": [],
   "source": [
    "def order_coefficients_and_modulo_q_reduction(coefficients):\n",
    "    ordered_coefficients = []\n",
    "\n",
    "    for j in range(n // t):\n",
    "        for i in range(t):\n",
    "            ordered_coefficients.append(coefficients[i][j] % q)\n",
    "\n",
    "    return ordered_coefficients"
   ]
  },
  {
   "cell_type": "code",
   "execution_count": 21,
   "metadata": {},
   "outputs": [],
   "source": [
    "def step7(nusskron):\n",
    "    # The inputed numbers are supposed to be modulo 2 ** 2304 + 1. This implies that the left G in the sneeze operation can only be 0 or 1. The resulting coefficients will be stored as their minimal positive representation modulo q.\n",
    "\n",
    "    sneezed_numbers = []\n",
    "    for number in nusskron:\n",
    "        sneezed_numbers.append(sneeze(number))\n",
    "\n",
    "    return order_coefficients_and_modulo_q_reduction(sneezed_numbers)"
   ]
  },
  {
   "attachments": {},
   "cell_type": "markdown",
   "metadata": {},
   "source": [
    "All steps"
   ]
  },
  {
   "cell_type": "code",
   "execution_count": 22,
   "metadata": {},
   "outputs": [],
   "source": [
    "def run(input_polynomia1, input_polynomia2):\n",
    "    nusskron1, nusskron2 = step1(input_polynomia1, input_polynomia2)\n",
    "    nusskron1, nusskron2 = step2(nusskron1, nusskron2)\n",
    "    kron_ntt1, kron_ntt2 = step3(nusskron1, nusskron2)\n",
    "    kron_ntt             = step4(kron_ntt1, kron_ntt2)\n",
    "    nusskron             = step5(kron_ntt)\n",
    "    nusskron             = step6(nusskron)\n",
    "    output_polynomial    = step7(nusskron)\n",
    "    \n",
    "    return output_polynomial"
   ]
  },
  {
   "attachments": {},
   "cell_type": "markdown",
   "metadata": {},
   "source": [
    "### Input"
   ]
  },
  {
   "cell_type": "code",
   "execution_count": 23,
   "metadata": {},
   "outputs": [],
   "source": [
    "def random_polynomial():\n",
    "    return [random.randint(0, q - 1) for i in range(n)]"
   ]
  },
  {
   "cell_type": "code",
   "execution_count": 24,
   "metadata": {},
   "outputs": [],
   "source": [
    "random.seed(0)\n",
    "\n",
    "input_polynomia1 = random_polynomial()\n",
    "input_polynomia2 = random_polynomial()\n",
    "\n",
    "# for i in input_polynomia1:\n",
    "#     print(f\"  .word {i:#0{10}x}\")\n",
    "\n",
    "# for i in input_polynomia2:\n",
    "#     print(f\"  .word {i:#0{10}x}\")"
   ]
  },
  {
   "attachments": {},
   "cell_type": "markdown",
   "metadata": {},
   "source": [
    "### Playground"
   ]
  },
  {
   "cell_type": "code",
   "execution_count": 25,
   "metadata": {},
   "outputs": [],
   "source": [
    "def print_numbers_in_hex(numbers, number_of_digits=None):\n",
    "    for number in numbers:\n",
    "        if number_of_digits != None:\n",
    "            print(f\"{number:#0{number_of_digits}x}\")\n",
    "        else:\n",
    "            print(hex(number % kron_mod))"
   ]
  },
  {
   "cell_type": "code",
   "execution_count": 26,
   "metadata": {},
   "outputs": [
    {
     "name": "stdout",
     "output_type": "stream",
     "text": [
      "time:  2.0389556884765625 miliseconds\n",
      "[3330502, 7090661, 5194480, 439890, 2745074, 2460165]\n",
      "[3330502, 7090661, 5194480, 439890, 2745074, 2460165]\n"
     ]
    }
   ],
   "source": [
    "start = time.time()\n",
    "output_polynomial = run(input_polynomia1, input_polynomia2)\n",
    "end = time.time()\n",
    "print('time: ', (end - start) * 1000, 'miliseconds')\n",
    "\n",
    "print(output_polynomial[:6])\n",
    "print(naive_multiplication(input_polynomia1, input_polynomia2)[:6])"
   ]
  },
  {
   "cell_type": "code",
   "execution_count": 27,
   "metadata": {},
   "outputs": [],
   "source": [
    "def turn_to_number(s: str):\n",
    "    v =  s.replace('=',' ').replace('\\n', ' ').split(' ')\n",
    "    v.reverse()\n",
    "    _n = '0x'\n",
    "\n",
    "    for _s in v:\n",
    "        if _s[0:2] == '0x':\n",
    "            _n += _s[2:]\n",
    "\n",
    "    return _n"
   ]
  },
  {
   "cell_type": "code",
   "execution_count": 133,
   "metadata": {},
   "outputs": [
    {
     "name": "stdout",
     "output_type": "stream",
     "text": [
      "[3330502, 7090661, 5194480, 439890, 2745074, 2460165, 7132666, 2160673, 7528362, 1512433, 2670703, 5399576, 2684345, 7787054, 7519338, 5213484, 5394636, 2321342, 6560029, 8321219, 7931233, 3399259, 2706820, 176874, 3575315, 7465892, 1005451, 6912753, 4482928, 4837004, 7980387, 5063904, 351307, 4412748, 7170238, 4554998, 4504726, 2127503, 7746314, 7593731, 6161752, 6155119, 7884856, 1769861, 6142015, 2412120, 3168197, 3549821, 4958879, 6124278, 5507489, 7011110, 6087456, 6400730, 2755712, 1605217, 2260191, 7277862, 8121048, 7692018, 1658435, 208969, 5086144, 2005628, 5849495, 6050581, 6301159, 770716, 4250054, 233233, 3807896, 951736, 2882996, 7202356, 6473107, 1599990, 5421908, 1776588, 2099049, 4635202, 3195461, 6513083, 6262186, 7778339, 5573226, 1907927, 214948, 5678972, 6050282, 2454510, 1325886, 7257824, 5104932, 2035901, 1410074, 4244686, 6610457, 1302195, 4770397, 1045523, 4437073, 4993033, 4942866, 5053046, 7794462, 1320525, 7883328, 1061306, 3111300, 7604150, 500969, 6332165, 8032850, 5220364, 2625647, 120295, 82949, 6046352, 4959815, 1613082, 2873572, 3031586, 7696975, 7276699, 6933417, 1160615, 1711011, 6306433, 8296375, 2867951, 257483, 7682654, 5527933, 6482620, 2589311, 3988102, 6645913, 6608567, 8232898, 4262418, 6763455, 6629478, 6965215, 2664753, 2717463, 1679515, 2889615, 1454145, 5133932, 6361598, 808832, 1376739, 6811795, 3012956, 5761951, 2699089, 6062496, 6376973, 1941462, 7042141, 762875, 3484771, 3424070, 3406703, 1918515, 2340478, 6619093, 1074259, 3088483, 2425271, 1522426, 4105709, 4562490, 7618266, 2030938, 7206109, 1405581, 203471, 268609, 3182037, 810205, 2891442, 3559824, 5667044, 6298295, 7965464, 6094453, 7783138, 2921932, 4139235, 5642259, 8311032, 8058705, 1341837, 607275, 4133533, 8175352, 13995, 833758, 4565676, 5498775, 1783632, 6700971, 4419295, 2287832, 6901203, 4074085, 6118871, 7899084, 7232227, 4980065, 6618511, 4870017, 3194381, 6818069, 1293498, 4146944, 1051207, 2993055, 153281, 3943897, 612823, 5730155, 3032273, 2027333, 4391057, 7705181, 1636948, 4573557, 447099, 7424886, 2921436, 7631740, 4452461, 3128565, 2363223, 7653281, 3718150, 2802815, 3797820, 7194697, 5723468, 3471871, 7404966, 3675824, 3322090, 7590552, 6134439, 4777259, 2448204, 1049258, 6802262, 566010, 3859867, 4252695, 7020273]\n",
      "[3330502, 7090661, 5194480, 439890, 2745074, 2460165, 7132666, 2160673, 7528362, 1512433, 2670703, 5399576, 2684345, 7787054, 7519338, 5213484, 5394636, 2321342, 6560029, 8321219, 7931233, 3399259, 2706820, 176874, 3575315, 7465892, 1005451, 6912753, 4482928, 4837004, 7980387, 5063904, 351307, 4412748, 7170238, 4554998, 4504726, 2127503, 7746314, 7593731, 6161752, 6155119, 7884856, 1769861, 6142015, 2412120, 3168197, 3549821, 4958879, 6124278, 5507489, 7011110, 6087456, 6400730, 2755712, 1605217, 2260191, 7277862, 8121048, 7692018, 1658435, 208969, 5086144, 2005628, 5849495, 6050581, 6301159, 770716, 4250054, 233233, 3807896, 951736, 2882996, 7202356, 6473107, 1599990, 5421908, 1776588, 2099049, 4635202, 3195461, 6513083, 6262186, 7778339, 5573226, 1907927, 214948, 5678972, 6050282, 2454510, 1325886, 7257824, 5104932, 2035901, 1410074, 4244686, 6610457, 1302195, 4770397, 1045523, 4437073, 4993033, 4942866, 5053046, 7794462, 1320525, 7883328, 1061306, 3111300, 7604150, 500969, 6332165, 8032850, 5220364, 2625647, 120295, 82949, 6046352, 4959815, 1613082, 2873572, 3031586, 7696975, 7276699, 6933417, 1160615, 1711011, 6306433, 8296375, 2867951, 257483, 7682654, 5527933, 6482620, 2589311, 3988102, 6645913, 6608567, 8232898, 4262418, 6763455, 6629478, 6965215, 2664753, 2717463, 1679515, 2889615, 1454145, 5133932, 6361598, 808832, 1376739, 6811795, 3012956, 5761951, 2699089, 6062496, 6376973, 1941462, 7042141, 762875, 3484771, 3424070, 3406703, 1918515, 2340478, 6619093, 1074259, 3088483, 2425271, 1522426, 4105709, 4562490, 7618266, 2030938, 7206109, 1405581, 203471, 268609, 3182037, 810205, 2891442, 3559824, 5667044, 6298295, 7965464, 6094453, 7783138, 2921932, 4139235, 5642259, 8311032, 8058705, 1341837, 607275, 4133533, 8175352, 13995, 833758, 4565676, 5498775, 1783632, 6700971, 4419295, 2287832, 6901203, 4074085, 6118871, 7899084, 7232227, 4980065, 6618511, 4870017, 3194381, 6818069, 1293498, 4146944, 1051207, 2993055, 153281, 3943897, 612823, 5730155, 3032273, 2027333, 4391057, 7705181, 1636948, 4573557, 447099, 7424886, 2921436, 7631740, 4452461, 3128565, 2363223, 7653281, 3718150, 2802815, 3797820, 7194697, 5723468, 3471871, 7404966, 3675824, 3322090, 7590552, 6134439, 4777259, 2448204, 1049258, 6802262, 566010, 3859867, 4252695, 7020273]\n",
      "0x0032d1c6\n",
      "0x006c31e5\n",
      "0x004f42f0\n",
      "0x0006b652\n",
      "0x0029e2f2\n",
      "0x00258a05\n",
      "0x006cd5fa\n",
      "0x0020f821\n",
      "0x0072dfaa\n",
      "0x001713f1\n",
      "0x0028c06f\n",
      "0x00526418\n",
      "0x0028f5b9\n",
      "0x0076d22e\n",
      "0x0072bc6a\n",
      "0x004f8d2c\n",
      "0x005250cc\n",
      "0x00236bbe\n",
      "0x0064191d\n",
      "0x007ef8c3\n",
      "0x00790561\n",
      "0x0033de5b\n",
      "0x00294d84\n",
      "0x0002b2ea\n",
      "0x00368e13\n",
      "0x0071eba4\n",
      "0x000f578b\n",
      "0x00697af1\n",
      "0x00446770\n",
      "0x0049ce8c\n",
      "0x0079c563\n",
      "0x004d44e0\n",
      "0x00055c4b\n",
      "0x0043554c\n",
      "0x006d68be\n",
      "0x004580f6\n",
      "0x0044bc96\n",
      "0x0020768f\n",
      "0x0076330a\n",
      "0x0073df03\n",
      "0x005e0558\n",
      "0x005deb6f\n",
      "0x00785038\n",
      "0x001b0185\n",
      "0x005db83f\n",
      "0x0024ce58\n",
      "0x003057c5\n",
      "0x00362a7d\n",
      "0x004baa9f\n",
      "0x005d72f6\n",
      "0x005409a1\n",
      "0x006afb26\n",
      "0x005ce320\n",
      "0x0061aada\n",
      "0x002a0c80\n",
      "0x00187e61\n",
      "0x00227cdf\n",
      "0x006f0d26\n",
      "0x007bead8\n",
      "0x00755ef2\n",
      "0x00194e43\n",
      "0x00033049\n",
      "0x004d9bc0\n",
      "0x001e9a7c\n",
      "0x00594197\n",
      "0x005c5315\n",
      "0x006025e7\n",
      "0x000bc29c\n",
      "0x0040d9c6\n",
      "0x00038f11\n",
      "0x003a1a98\n",
      "0x000e85b8\n",
      "0x002bfdb4\n",
      "0x006de634\n",
      "0x0062c593\n",
      "0x001869f6\n",
      "0x0052bb54\n",
      "0x001b1bcc\n",
      "0x00200769\n",
      "0x0046ba42\n",
      "0x0030c245\n",
      "0x006361bb\n",
      "0x005f8daa\n",
      "0x0076b023\n",
      "0x00550a6a\n",
      "0x001d1cd7\n",
      "0x000347a4\n",
      "0x0056a77c\n",
      "0x005c51ea\n",
      "0x002573ee\n",
      "0x00143b3e\n",
      "0x006ebee0\n",
      "0x004de524\n",
      "0x001f10bd\n",
      "0x0015841a\n",
      "0x0040c4ce\n",
      "0x0064de19\n",
      "0x0013deb3\n",
      "0x0048ca5d\n",
      "0x000ff413\n",
      "0x0043b451\n",
      "0x004c3009\n",
      "0x004b6c12\n",
      "0x004d1a76\n",
      "0x0076ef1e\n",
      "0x0014264d\n",
      "0x00784a40\n",
      "0x001031ba\n",
      "0x002f7984\n",
      "0x007407b6\n",
      "0x0007a4e9\n",
      "0x00609f05\n",
      "0x007a9252\n",
      "0x004fa80c\n",
      "0x0028106f\n",
      "0x0001d5e7\n",
      "0x00014405\n",
      "0x005c4290\n",
      "0x004bae47\n",
      "0x00189d1a\n",
      "0x002bd8e4\n",
      "0x002e4222\n",
      "0x0075724f\n",
      "0x006f089b\n",
      "0x0069cba9\n",
      "0x0011b5a7\n",
      "0x001a1ba3\n",
      "0x00603a81\n",
      "0x007e97b7\n",
      "0x002bc2ef\n",
      "0x0003edcb\n",
      "0x00753a5e\n",
      "0x0054597d\n",
      "0x0062eabc\n",
      "0x0027827f\n",
      "0x003cda86\n",
      "0x00656899\n",
      "0x0064d6b7\n",
      "0x007d9fc2\n",
      "0x00410a12\n",
      "0x006733bf\n",
      "0x00652866\n",
      "0x006a47df\n",
      "0x0028a931\n",
      "0x00297717\n",
      "0x0019a09b\n",
      "0x002c178f\n",
      "0x00163041\n",
      "0x004e566c\n",
      "0x006111fe\n",
      "0x000c5780\n",
      "0x001501e3\n",
      "0x0067f093\n",
      "0x002df95c\n",
      "0x0057eb9f\n",
      "0x00292f51\n",
      "0x005c81a0\n",
      "0x00614e0d\n",
      "0x001d9fd6\n",
      "0x006b745d\n",
      "0x000ba3fb\n",
      "0x00352c63\n",
      "0x00343f46\n",
      "0x0033fb6f\n",
      "0x001d4633\n",
      "0x0023b67e\n",
      "0x0064ffd5\n",
      "0x00106453\n",
      "0x002f2063\n",
      "0x002501b7\n",
      "0x00173afa\n",
      "0x003ea5ed\n",
      "0x00459e3a\n",
      "0x00743eda\n",
      "0x001efd5a\n",
      "0x006df4dd\n",
      "0x0015728d\n",
      "0x00031acf\n",
      "0x00041941\n",
      "0x00308dd5\n",
      "0x000c5cdd\n",
      "0x002c1eb2\n",
      "0x00365190\n",
      "0x005678e4\n",
      "0x00601ab7\n",
      "0x00798b18\n",
      "0x005cfe75\n",
      "0x0076c2e2\n",
      "0x002c95cc\n",
      "0x003f28e3\n",
      "0x00561813\n",
      "0x007ed0f8\n",
      "0x007af751\n",
      "0x0014798d\n",
      "0x0009442b\n",
      "0x003f129d\n",
      "0x007cbef8\n",
      "0x000036ab\n",
      "0x000cb8de\n",
      "0x0045aaac\n",
      "0x0053e797\n",
      "0x001b3750\n",
      "0x00663fab\n",
      "0x00436edf\n",
      "0x0022e8d8\n",
      "0x00694dd3\n",
      "0x003e2a65\n",
      "0x005d5dd7\n",
      "0x007887cc\n",
      "0x006e5ae3\n",
      "0x004bfd61\n",
      "0x0064fd8f\n",
      "0x004a4f81\n",
      "0x0030be0d\n",
      "0x00680915\n",
      "0x0013bcba\n",
      "0x003f4700\n",
      "0x00100a47\n",
      "0x002dab9f\n",
      "0x000256c1\n",
      "0x003c2dd9\n",
      "0x000959d7\n",
      "0x00576f6b\n",
      "0x002e44d1\n",
      "0x001eef45\n",
      "0x00430091\n",
      "0x0075925d\n",
      "0x0018fa54\n",
      "0x0045c975\n",
      "0x0006d27b\n",
      "0x00714b76\n",
      "0x002c93dc\n",
      "0x0074737c\n",
      "0x0043f06d\n",
      "0x002fbcf5\n",
      "0x00240f57\n",
      "0x0074c7a1\n",
      "0x0038bc06\n",
      "0x002ac47f\n",
      "0x0039f33c\n",
      "0x006dc849\n",
      "0x0057554c\n",
      "0x0034f9ff\n",
      "0x0070fda6\n",
      "0x003816b0\n",
      "0x0032b0ea\n",
      "0x0073d298\n",
      "0x005d9aa7\n",
      "0x0048e52b\n",
      "0x00255b4c\n",
      "0x001002aa\n",
      "0x0067cb56\n",
      "0x0008a2fa\n",
      "0x003ae59b\n",
      "0x0040e417\n",
      "0x006b1ef1\n"
     ]
    }
   ],
   "source": [
    "nusskron1, nusskron2 = step1(input_polynomia1, input_polynomia2)\n",
    "nusskron1, nusskron2 = step2(nusskron1, nusskron2)\n",
    "kron_ntt1, kron_ntt2 = step3(nusskron1, nusskron2)\n",
    "kron_ntt             = step4(kron_ntt1, kron_ntt2)\n",
    "nusskron             = step5(kron_ntt)\n",
    "nusskron             = step6(nusskron)\n",
    "output_polynomial    = step7(nusskron)\n",
    "\n",
    "print(output_polynomial)\n",
    "print(naive_multiplication(input_polynomia1, input_polynomia2))\n",
    "\n",
    "print_numbers_in_hex(output_polynomial, 10)"
   ]
  },
  {
   "cell_type": "code",
   "execution_count": 135,
   "metadata": {},
   "outputs": [
    {
     "name": "stdout",
     "output_type": "stream",
     "text": [
      "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\n"
     ]
    }
   ],
   "source": [
    "with open('i.txt', 'r') as f:\n",
    "    print(turn_to_number(f.read()))"
   ]
  }
 ],
 "metadata": {
  "kernelspec": {
   "display_name": "Python 3",
   "language": "python",
   "name": "python3"
  },
  "language_info": {
   "codemirror_mode": {
    "name": "ipython",
    "version": 3
   },
   "file_extension": ".py",
   "mimetype": "text/x-python",
   "name": "python",
   "nbconvert_exporter": "python",
   "pygments_lexer": "ipython3",
   "version": "3.7.0"
  },
  "orig_nbformat": 4
 },
 "nbformat": 4,
 "nbformat_minor": 2
}
